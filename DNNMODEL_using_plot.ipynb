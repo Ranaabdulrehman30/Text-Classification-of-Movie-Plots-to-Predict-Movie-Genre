{
  "nbformat": 4,
  "nbformat_minor": 0,
  "metadata": {
    "colab": {
      "provenance": []
    },
    "kernelspec": {
      "name": "python3",
      "display_name": "Python 3"
    },
    "language_info": {
      "name": "python"
    }
  },
  "cells": [
    {
      "cell_type": "markdown",
      "metadata": {
        "id": "view-in-github"
      },
      "source": [
        "<a href=\"https://colab.research.google.com/github/LinggarM/Movie-Genre-Classification-based-on-synopsis-using-Deep-Neural-Network-and-TF-IDF-Vectorizer/blob/main/Movie_Genre_Classification_based_on_synopsis_using_Deep_Neural_Network_and_TF_IDF_Vectorizer.ipynb\" target=\"_parent\"><img src=\"https://colab.research.google.com/assets/colab-badge.svg\" alt=\"Open In Colab\"/></a>"
      ]
    },
    {
      "cell_type": "markdown",
      "metadata": {
        "id": "dLawSac1hFm6"
      },
      "source": [
        "# Retrieve Data"
      ]
    },
    {
      "cell_type": "code",
      "source": [
        "import pandas as pd\n",
        "import numpy as np \n",
        "import seaborn as sns\n",
        "import matplotlib.pyplot as plt\n",
        "import nltk\n",
        "%matplotlib inline \n",
        "from bs4 import BeautifulSoup\n",
        "import re\n",
        "from nltk.corpus import stopwords\n",
        "\n",
        "from sklearn import svm\n",
        "from sklearn.model_selection import train_test_split\n",
        "from sklearn.feature_extraction.text import CountVectorizer\n",
        "from sklearn.metrics import accuracy_score, confusion_matrix, recall_score, precision_score, f1_score\n",
        "\n",
        "df = pd.read_csv(\"movie-file.csv\")\n",
        "\n",
        "df_movies = df[['info/plot','info/genres/0']].copy()\n"
      ],
      "metadata": {
        "id": "-dWKcZPNDo4v"
      },
      "execution_count": 4,
      "outputs": []
    },
    {
      "cell_type": "code",
      "metadata": {
        "colab": {
          "base_uri": "https://localhost:8080/"
        },
        "id": "36ZuVPBmbkM7",
        "outputId": "0595efb5-c79d-4cba-f7f6-8369ec8dd9a3"
      },
      "source": [
        "df_movies.info()\n"
      ],
      "execution_count": 5,
      "outputs": [
        {
          "output_type": "stream",
          "name": "stdout",
          "text": [
            "<class 'pandas.core.frame.DataFrame'>\n",
            "RangeIndex: 4609 entries, 0 to 4608\n",
            "Data columns (total 2 columns):\n",
            " #   Column         Non-Null Count  Dtype \n",
            "---  ------         --------------  ----- \n",
            " 0   info/plot      4183 non-null   object\n",
            " 1   info/genres/0  4606 non-null   object\n",
            "dtypes: object(2)\n",
            "memory usage: 72.1+ KB\n"
          ]
        }
      ]
    },
    {
      "cell_type": "code",
      "source": [
        "a=df_movies['info/genres/0'].value_counts()[:20]\n",
        "sns.set(style=\"white\")\n",
        "genre_to_count=pd.DataFrame({'info/genres/0':a.index, 'Count':a.values})\n",
        "plt.figure(figsize=(15,10))\n",
        "sns.barplot(y=\"info/genres/0\", x=\"Count\", data=genre_to_count,palette=\"Blues_d\")"
      ],
      "metadata": {
        "colab": {
          "base_uri": "https://localhost:8080/",
          "height": 628
        },
        "id": "wfaVIuGOHF6J",
        "outputId": "7cd4e07f-8c75-4542-bb63-6d0795b3d057"
      },
      "execution_count": 6,
      "outputs": [
        {
          "output_type": "execute_result",
          "data": {
            "text/plain": [
              "<matplotlib.axes._subplots.AxesSubplot at 0x7fc7dccf9a90>"
            ]
          },
          "metadata": {},
          "execution_count": 6
        },
        {
          "output_type": "display_data",
          "data": {
            "text/plain": [
              "<Figure size 1080x720 with 1 Axes>"
            ],
            "image/png": "[encoded data removed]"
          },
          "metadata": {}
        }
      ]
    },
    {
      "cell_type": "code",
      "metadata": {
        "colab": {
          "base_uri": "https://localhost:8080/"
        },
        "id": "XsimBoXtiNl_",
        "outputId": "2be8761e-b5c8-4312-8caa-0d89f144cd1d"
      },
      "source": [
        "from sklearn.preprocessing import LabelEncoder\n",
        "\n",
        "encoder = LabelEncoder()\n",
        "labels = encoder.fit_transform(df_movies['info/genres/0'].values)\n",
        "print(max(labels))"
      ],
      "execution_count": 7,
      "outputs": [
        {
          "output_type": "stream",
          "name": "stdout",
          "text": [
            "22\n"
          ]
        }
      ]
    },
    {
      "cell_type": "code",
      "metadata": {
        "colab": {
          "base_uri": "https://localhost:8080/"
        },
        "id": "5oaev0P6imGE",
        "outputId": "9b7ee417-4af4-48a1-fad5-97de400cf706"
      },
      "source": [
        "df_genres = pd.DataFrame(encoder.classes_)\n",
        "print(len(df_genres))\n",
        "df_genres = df_genres.dropna()\n",
        "print(len(df_genres))\n"
      ],
      "execution_count": 8,
      "outputs": [
        {
          "output_type": "stream",
          "name": "stdout",
          "text": [
            "23\n",
            "22\n"
          ]
        }
      ]
    },
    {
      "cell_type": "code",
      "metadata": {
        "colab": {
          "base_uri": "https://localhost:8080/",
          "height": 424
        },
        "id": "x_9jdhVmjKeK",
        "outputId": "e6e2c1dc-7811-4f3d-c355-b8460050078c"
      },
      "source": [
        "df_movies['label'] = labels\n",
        "df_movies"
      ],
      "execution_count": 9,
      "outputs": [
        {
          "output_type": "execute_result",
          "data": {
            "text/plain": [
              "                                              info/plot info/genres/0  label\n",
              "0     A re-creation of the merciless 1970s rivalry b...        Action      0\n",
              "1     When Keller Dover's daughter and her friend go...         Crime      6\n",
              "2     Katniss Everdeen and Peeta Mellark become targ...        Action      0\n",
              "3     Faced with an enemy that even Odin and Asgard ...        Action      0\n",
              "4     While attending a party at James Franco's hous...        Comedy      5\n",
              "...                                                 ...           ...    ...\n",
              "4604                                                NaN         Drama      8\n",
              "4605                                                NaN         Drama      8\n",
              "4606                                                NaN        Action      0\n",
              "4607  While traveling across country with her fiance...         Crime      6\n",
              "4608  A woman snoops through her boyfriend's palm pi...        Comedy      5\n",
              "\n",
              "[4609 rows x 3 columns]"
            ],
            "text/html": [
              "\n",
              "  <div id=\"df-ce2e4018-03ef-49c0-ab7f-1b423087b42e\">\n",
              "    <div class=\"colab-df-container\">\n",
              "      <div>\n",
              "<style scoped>\n",
              "    .dataframe tbody tr th:only-of-type {\n",
              "        vertical-align: middle;\n",
              "    }\n",
              "\n",
              "    .dataframe tbody tr th {\n",
              "        vertical-align: top;\n",
              "    }\n",
              "\n",
              "    .dataframe thead th {\n",
              "        text-align: right;\n",
              "    }\n",
              "</style>\n",
              "<table border=\"1\" class=\"dataframe\">\n",
              "  <thead>\n",
              "    <tr style=\"text-align: right;\">\n",
              "      <th></th>\n",
              "      <th>info/plot</th>\n",
              "      <th>info/genres/0</th>\n",
              "      <th>label</th>\n",
              "    </tr>\n",
              "  </thead>\n",
              "  <tbody>\n",
              "    <tr>\n",
              "      <th>0</th>\n",
              "      <td>A re-creation of the merciless 1970s rivalry b...</td>\n",
              "      <td>Action</td>\n",
              "      <td>0</td>\n",
              "    </tr>\n",
              "    <tr>\n",
              "      <th>1</th>\n",
              "      <td>When Keller Dover's daughter and her friend go...</td>\n",
              "      <td>Crime</td>\n",
              "      <td>6</td>\n",
              "    </tr>\n",
              "    <tr>\n",
              "      <th>2</th>\n",
              "      <td>Katniss Everdeen and Peeta Mellark become targ...</td>\n",
              "      <td>Action</td>\n",
              "      <td>0</td>\n",
              "    </tr>\n",
              "    <tr>\n",
              "      <th>3</th>\n",
              "      <td>Faced with an enemy that even Odin and Asgard ...</td>\n",
              "      <td>Action</td>\n",
              "      <td>0</td>\n",
              "    </tr>\n",
              "    <tr>\n",
              "      <th>4</th>\n",
              "      <td>While attending a party at James Franco's hous...</td>\n",
              "      <td>Comedy</td>\n",
              "      <td>5</td>\n",
              "    </tr>\n",
              "    <tr>\n",
              "      <th>...</th>\n",
              "      <td>...</td>\n",
              "      <td>...</td>\n",
              "      <td>...</td>\n",
              "    </tr>\n",
              "    <tr>\n",
              "      <th>4604</th>\n",
              "      <td>NaN</td>\n",
              "      <td>Drama</td>\n",
              "      <td>8</td>\n",
              "    </tr>\n",
              "    <tr>\n",
              "      <th>4605</th>\n",
              "      <td>NaN</td>\n",
              "      <td>Drama</td>\n",
              "      <td>8</td>\n",
              "    </tr>\n",
              "    <tr>\n",
              "      <th>4606</th>\n",
              "      <td>NaN</td>\n",
              "      <td>Action</td>\n",
              "      <td>0</td>\n",
              "    </tr>\n",
              "    <tr>\n",
              "      <th>4607</th>\n",
              "      <td>While traveling across country with her fiance...</td>\n",
              "      <td>Crime</td>\n",
              "      <td>6</td>\n",
              "    </tr>\n",
              "    <tr>\n",
              "      <th>4608</th>\n",
              "      <td>A woman snoops through her boyfriend's palm pi...</td>\n",
              "      <td>Comedy</td>\n",
              "      <td>5</td>\n",
              "    </tr>\n",
              "  </tbody>\n",
              "</table>\n",
              "<p>4609 rows × 3 columns</p>\n",
              "</div>\n",
              "      <button class=\"colab-df-convert\" onclick=\"convertToInteractive('df-ce2e4018-03ef-49c0-ab7f-1b423087b42e')\"\n",
              "              title=\"Convert this dataframe to an interactive table.\"\n",
              "              style=\"display:none;\">\n",
              "        \n",
              "  <svg xmlns=\"http://www.w3.org/2000/svg\" height=\"24px\"viewBox=\"0 0 24 24\"\n",
              "       width=\"24px\">\n",
              "    <path d=\"M0 0h24v24H0V0z\" fill=\"none\"/>\n",
              "    <path d=\"M18.56 5.44l.94 2.06.94-2.06 2.06-.94-2.06-.94-.94-2.06-.94 2.06-2.06.94zm-11 1L8.5 8.5l.94-2.06 2.06-.94-2.06-.94L8.5 2.5l-.94 2.06-2.06.94zm10 10l.94 2.06.94-2.06 2.06-.94-2.06-.94-.94-2.06-.94 2.06-2.06.94z\"/><path d=\"M17.41 7.96l-1.37-1.37c-.4-.4-.92-.59-1.43-.59-.52 0-1.04.2-1.43.59L10.3 9.45l-7.72 7.72c-.78.78-.78 2.05 0 2.83L4 21.41c.39.39.9.59 1.41.59.51 0 1.02-.2 1.41-.59l7.78-7.78 2.81-2.81c.8-.78.8-2.07 0-2.86zM5.41 20L4 18.59l7.72-7.72 1.47 1.35L5.41 20z\"/>\n",
              "  </svg>\n",
              "      </button>\n",
              "      \n",
              "  <style>\n",
              "    .colab-df-container {\n",
              "      display:flex;\n",
              "      flex-wrap:wrap;\n",
              "      gap: 12px;\n",
              "    }\n",
              "\n",
              "    .colab-df-convert {\n",
              "      background-color: #E8F0FE;\n",
              "      border: none;\n",
              "      border-radius: 50%;\n",
              "      cursor: pointer;\n",
              "      display: none;\n",
              "      fill: #1967D2;\n",
              "      height: 32px;\n",
              "      padding: 0 0 0 0;\n",
              "      width: 32px;\n",
              "    }\n",
              "\n",
              "    .colab-df-convert:hover {\n",
              "      background-color: #E2EBFA;\n",
              "      box-shadow: 0px 1px 2px rgba(60, 64, 67, 0.3), 0px 1px 3px 1px rgba(60, 64, 67, 0.15);\n",
              "      fill: #174EA6;\n",
              "    }\n",
              "\n",
              "    [theme=dark] .colab-df-convert {\n",
              "      background-color: #3B4455;\n",
              "      fill: #D2E3FC;\n",
              "    }\n",
              "\n",
              "    [theme=dark] .colab-df-convert:hover {\n",
              "      background-color: #434B5C;\n",
              "      box-shadow: 0px 1px 3px 1px rgba(0, 0, 0, 0.15);\n",
              "      filter: drop-shadow(0px 1px 2px rgba(0, 0, 0, 0.3));\n",
              "      fill: #FFFFFF;\n",
              "    }\n",
              "  </style>\n",
              "\n",
              "      <script>\n",
              "        const buttonEl =\n",
              "          document.querySelector('#df-ce2e4018-03ef-49c0-ab7f-1b423087b42e button.colab-df-convert');\n",
              "        buttonEl.style.display =\n",
              "          google.colab.kernel.accessAllowed ? 'block' : 'none';\n",
              "\n",
              "        async function convertToInteractive(key) {\n",
              "          const element = document.querySelector('#df-ce2e4018-03ef-49c0-ab7f-1b423087b42e');\n",
              "          const dataTable =\n",
              "            await google.colab.kernel.invokeFunction('convertToInteractive',\n",
              "                                                     [key], {});\n",
              "          if (!dataTable) return;\n",
              "\n",
              "          const docLinkHtml = 'Like what you see? Visit the ' +\n",
              "            '<a target=\"_blank\" href=https://colab.research.google.com/notebooks/data_table.ipynb>data table notebook</a>'\n",
              "            + ' to learn more about interactive tables.';\n",
              "          element.innerHTML = '';\n",
              "          dataTable['output_type'] = 'display_data';\n",
              "          await google.colab.output.renderOutput(dataTable, element);\n",
              "          const docLink = document.createElement('div');\n",
              "          docLink.innerHTML = docLinkHtml;\n",
              "          element.appendChild(docLink);\n",
              "        }\n",
              "      </script>\n",
              "    </div>\n",
              "  </div>\n",
              "  "
            ]
          },
          "metadata": {},
          "execution_count": 9
        }
      ]
    },
    {
      "cell_type": "markdown",
      "metadata": {
        "id": "Z1-cYddfoonX"
      },
      "source": [
        "# Data Preprocessing"
      ]
    },
    {
      "cell_type": "code",
      "metadata": {
        "id": "VSdklV-Ikjbf",
        "colab": {
          "base_uri": "https://localhost:8080/"
        },
        "outputId": "bb65a89a-0e50-43a8-bc72-50836ad15c29"
      },
      "source": [
        "df_movies = df_movies.dropna()\n",
        "\n",
        "print(len(df_movies['info/plot']))\n",
        "print(len(df_movies['info/plot']))\n",
        "\n",
        "from sklearn.model_selection import train_test_split\n",
        "\n",
        "x_train, x_test, y_train, y_test = train_test_split(df_movies['info/plot'].values, df_movies['label'].values, test_size = 0.2, random_state = 0)"
      ],
      "execution_count": 10,
      "outputs": [
        {
          "output_type": "stream",
          "name": "stdout",
          "text": [
            "4181\n",
            "4181\n"
          ]
        }
      ]
    },
    {
      "cell_type": "code",
      "source": [],
      "metadata": {
        "id": "WhYiPUQBGMHZ"
      },
      "execution_count": 10,
      "outputs": []
    },
    {
      "cell_type": "markdown",
      "metadata": {
        "id": "JCnZ3iS0hMQW"
      },
      "source": [
        "# Feature Engineering"
      ]
    },
    {
      "cell_type": "code",
      "metadata": {
        "id": "ABWCMNdofhBp",
        "colab": {
          "base_uri": "https://localhost:8080/"
        },
        "outputId": "5c2878b5-9ccd-4af1-c8c4-b65aa196e109"
      },
      "source": [
        "from sklearn.feature_extraction.text import TfidfVectorizer\n",
        "\n",
        "vectorizer = TfidfVectorizer(stop_words='english', lowercase = True)\n",
        "features = vectorizer.fit_transform(x_train) # training vector TF-IDF pada tiap data\n",
        "features_test = vectorizer.transform(x_test)\n",
        "\n",
        "print(features)"
      ],
      "execution_count": 11,
      "outputs": [
        {
          "output_type": "stream",
          "name": "stdout",
          "text": [
            "  (0, 3780)\t0.26884650333487786\n",
            "  (0, 5456)\t0.20108565233349254\n",
            "  (0, 5537)\t0.30917688970535173\n",
            "  (0, 2130)\t0.30917688970535173\n",
            "  (0, 10496)\t0.2582856082370223\n",
            "  (0, 6802)\t0.30917688970535173\n",
            "  (0, 5442)\t0.29429214406904264\n",
            "  (0, 6819)\t0.30917688970535173\n",
            "  (0, 1589)\t0.30917688970535173\n",
            "  (0, 1201)\t0.22851611696440402\n",
            "  (0, 1313)\t0.29429214406904264\n",
            "  (0, 1726)\t0.30917688970535173\n",
            "  (0, 9019)\t0.1469599266691641\n",
            "  (1, 1608)\t0.3150221756407743\n",
            "  (1, 2112)\t0.37006903726612833\n",
            "  (1, 9359)\t0.2048005327520481\n",
            "  (1, 927)\t0.287821367105754\n",
            "  (1, 8277)\t0.17863366285305762\n",
            "  (1, 4483)\t0.1890770418977484\n",
            "  (1, 9625)\t0.1905297482403343\n",
            "  (1, 8681)\t0.21081417514302725\n",
            "  (1, 9662)\t0.2525659705468043\n",
            "  (1, 3004)\t0.35225275257282657\n",
            "  (1, 5588)\t0.23326003931149353\n",
            "  (1, 6897)\t0.22524876362682836\n",
            "  :\t:\n",
            "  (3342, 6930)\t0.28143796830509166\n",
            "  (3342, 9444)\t0.2635044862746874\n",
            "  (3342, 687)\t0.27133835497961195\n",
            "  (3342, 5673)\t0.2635044862746874\n",
            "  (3342, 9033)\t0.19945029552881854\n",
            "  (3342, 5059)\t0.22054157742440794\n",
            "  (3342, 10214)\t0.2299594827901031\n",
            "  (3342, 4620)\t0.18062232289900446\n",
            "  (3342, 5573)\t0.1841010930296918\n",
            "  (3342, 2213)\t0.18559522731914566\n",
            "  (3342, 4206)\t0.14340392879996744\n",
            "  (3342, 980)\t0.21312317932956643\n",
            "  (3342, 6434)\t0.3711904546382913\n",
            "  (3343, 5815)\t0.37329777459201846\n",
            "  (3343, 5146)\t0.37329777459201846\n",
            "  (3343, 2594)\t0.3326843509956471\n",
            "  (3343, 8479)\t0.32460317942068484\n",
            "  (3343, 7279)\t0.278442058388755\n",
            "  (3343, 3644)\t0.3118520367285957\n",
            "  (3343, 10305)\t0.2563249083451365\n",
            "  (3343, 10379)\t0.25040629886517296\n",
            "  (3343, 10529)\t0.1985921642152608\n",
            "  (3343, 8140)\t0.23529516065297992\n",
            "  (3343, 2459)\t0.21571148474876514\n",
            "  (3343, 2509)\t0.24643435368047653\n"
          ]
        }
      ]
    },
    {
      "cell_type": "code",
      "metadata": {
        "colab": {
          "base_uri": "https://localhost:8080/"
        },
        "id": "UGjs_zskfdjQ",
        "outputId": "65626174-e63c-4f95-9b56-5d0efba9d8e2"
      },
      "source": [
        "features[0]"
      ],
      "execution_count": 12,
      "outputs": [
        {
          "output_type": "execute_result",
          "data": {
            "text/plain": [
              "<1x10575 sparse matrix of type '<class 'numpy.float64'>'\n",
              "\twith 13 stored elements in Compressed Sparse Row format>"
            ]
          },
          "metadata": {},
          "execution_count": 12
        }
      ]
    },
    {
      "cell_type": "code",
      "metadata": {
        "colab": {
          "base_uri": "https://localhost:8080/"
        },
        "id": "xvmWqNykhUa1",
        "outputId": "04e4057e-d3c1-420e-a67c-394b4e27d94d"
      },
      "source": [
        "print(type(features),features.shape)"
      ],
      "execution_count": 13,
      "outputs": [
        {
          "output_type": "stream",
          "name": "stdout",
          "text": [
            "<class 'scipy.sparse.csr.csr_matrix'> (3344, 10575)\n"
          ]
        }
      ]
    },
    {
      "cell_type": "code",
      "metadata": {
        "colab": {
          "base_uri": "https://localhost:8080/"
        },
        "id": "Ltc_sXbsjRny",
        "outputId": "815c0be8-b788-4f37-fc68-be097202fc17"
      },
      "source": [
        "print(y_train[:10])"
      ],
      "execution_count": 14,
      "outputs": [
        {
          "output_type": "stream",
          "name": "stdout",
          "text": [
            "[ 4  8  8  0 12  5  6  0  2  0]\n"
          ]
        }
      ]
    },
    {
      "cell_type": "markdown",
      "metadata": {
        "id": "PZYE3ttuhQGm"
      },
      "source": [
        "# Model Training"
      ]
    },
    {
      "cell_type": "markdown",
      "metadata": {
        "id": "AadPbVw3oxJs"
      },
      "source": [
        "## SVM"
      ]
    },
    {
      "cell_type": "code",
      "metadata": {
        "colab": {
          "base_uri": "https://localhost:8080/"
        },
        "id": "lvhrm3AjmqEq",
        "outputId": "752765f2-d30c-4c0a-896e-7a858ec68eeb"
      },
      "source": [
        "from sklearn.svm import SVC\n",
        "from sklearn.metrics import accuracy_score\n",
        "\n",
        "svm_model = SVC()\n",
        "svm_model.fit(features, y_train)"
      ],
      "execution_count": 15,
      "outputs": [
        {
          "output_type": "execute_result",
          "data": {
            "text/plain": [
              "SVC()"
            ]
          },
          "metadata": {},
          "execution_count": 15
        }
      ]
    },
    {
      "cell_type": "code",
      "metadata": {
        "colab": {
          "base_uri": "https://localhost:8080/"
        },
        "id": "VhgXsI4VnE4w",
        "outputId": "2facff9b-a4af-4c58-fb18-3b8cd152c195"
      },
      "source": [
        "y_pred = svm_model.predict(features_test)\n",
        "accuracy_score(y_test, y_pred)"
      ],
      "execution_count": 16,
      "outputs": [
        {
          "output_type": "execute_result",
          "data": {
            "text/plain": [
              "0.4169653524492234"
            ]
          },
          "metadata": {},
          "execution_count": 16
        }
      ]
    },
    {
      "cell_type": "markdown",
      "metadata": {
        "id": "vyqJcY4AoywU"
      },
      "source": [
        "## Multinomial Naive Bayes"
      ]
    },
    {
      "cell_type": "code",
      "metadata": {
        "colab": {
          "base_uri": "https://localhost:8080/"
        },
        "id": "RexifgoVngu2",
        "outputId": "7da88f30-b9fe-4469-895c-d0bc8fe2ff09"
      },
      "source": [
        "from sklearn.naive_bayes import MultinomialNB\n",
        "from sklearn.metrics import accuracy_score\n",
        "\n",
        "mnb_model = MultinomialNB()\n",
        "mnb_model.fit(features, y_train)"
      ],
      "execution_count": 17,
      "outputs": [
        {
          "output_type": "execute_result",
          "data": {
            "text/plain": [
              "MultinomialNB()"
            ]
          },
          "metadata": {},
          "execution_count": 17
        }
      ]
    },
    {
      "cell_type": "code",
      "metadata": {
        "colab": {
          "base_uri": "https://localhost:8080/"
        },
        "id": "FP05Ay3Jnvu5",
        "outputId": "af57e70e-d1ec-4725-ac88-3566aee8fb4e"
      },
      "source": [
        "y_pred = mnb_model.predict(features_test)\n",
        "accuracy_score(y_test, y_pred)"
      ],
      "execution_count": 18,
      "outputs": [
        {
          "output_type": "execute_result",
          "data": {
            "text/plain": [
              "0.4217443249701314"
            ]
          },
          "metadata": {},
          "execution_count": 18
        }
      ]
    },
    {
      "cell_type": "code",
      "metadata": {
        "colab": {
          "base_uri": "https://localhost:8080/",
          "height": 574
        },
        "id": "x4BvydqcoN3G",
        "outputId": "47f858d8-4736-43f2-b07d-1333c9889696"
      },
      "source": [
        "from sklearn.metrics import confusion_matrix\n",
        "import seaborn as sns\n",
        "import matplotlib.pyplot as plt\n",
        "\n",
        "conf_mat = confusion_matrix(y_test, y_pred)\n",
        "conf_mat\n",
        "\n",
        "ax = plt.subplots(figsize=(9, 9))\n",
        "ax = sns.heatmap(conf_mat, square = True, annot=True, fmt = 'd', cmap=\"YlGnBu\", cbar = False)\n",
        "plt.xlabel(\"Predicted Class\")\n",
        "plt.ylabel(\"Actual Class\")"
      ],
      "execution_count": 19,
      "outputs": [
        {
          "output_type": "execute_result",
          "data": {
            "text/plain": [
              "Text(63.980000000000004, 0.5, 'Actual Class')"
            ]
          },
          "metadata": {},
          "execution_count": 19
        },
        {
          "output_type": "display_data",
          "data": {
            "text/plain": [
              "<Figure size 648x648 with 1 Axes>"
            ],
            "image/png": "[encoded data removed]"
          },
          "metadata": {}
        }
      ]
    },
    {
      "cell_type": "markdown",
      "metadata": {
        "id": "L8cFGOXoo2pE"
      },
      "source": [
        "## Neural Network"
      ]
    },
    {
      "cell_type": "code",
      "metadata": {
        "id": "difdytYp2LSE"
      },
      "source": [
        "import tensorflow.python.keras.backend as tf\n",
        "from keras.models import Sequential\n",
        "from keras.layers import Flatten, Dense, Softmax, Dropout\n",
        "\n",
        "model = Sequential()\n",
        "model.add(Dense(256 , activation = 'relu'))\n",
        "model.add(Dense(128, activation = 'relu'))\n",
        "model.add(Dense(128, activation = 'sigmoid'))\n",
        "model.add(Dense(128, activation = 'relu'))\n",
        "model.add(Dense(128, activation = 'sigmoid'))\n",
        "model.add(Dropout(0.2))\n",
        "model.add(Dense(22))\n",
        "model.add(Softmax())"
      ],
      "execution_count": 20,
      "outputs": []
    },
    {
      "cell_type": "code",
      "metadata": {
        "id": "4vXOBoZR5Co_"
      },
      "source": [
        "model.compile(optimizer = 'adam',\n",
        "              loss='sparse_categorical_crossentropy',\n",
        "              metrics=['accuracy'])"
      ],
      "execution_count": 21,
      "outputs": []
    },
    {
      "cell_type": "code",
      "source": [
        "print(features_test.shape)\n"
      ],
      "metadata": {
        "colab": {
          "base_uri": "https://localhost:8080/"
        },
        "id": "yie8uJ-DHZgV",
        "outputId": "7fe97b82-57a0-46b8-ed20-d458cf63a2df"
      },
      "execution_count": 23,
      "outputs": [
        {
          "output_type": "stream",
          "name": "stdout",
          "text": [
            "(837, 10575)\n"
          ]
        }
      ]
    },
    {
      "cell_type": "code",
      "metadata": {
        "colab": {
          "base_uri": "https://localhost:8080/"
        },
        "id": "ytj-nh5E5I_0",
        "outputId": "dc9a42e4-8734-47bd-8c63-6ea6951d4aa4"
      },
      "source": [
        "history = model.fit(features, y_train, validation_data = (features_test, y_test), epochs = 20)\n"
      ],
      "execution_count": 25,
      "outputs": [
        {
          "output_type": "stream",
          "name": "stdout",
          "text": [
            "Epoch 1/20\n",
            "105/105 [==============================] - 7s 63ms/step - loss: 1.3908 - accuracy: 0.5472 - val_loss: 2.1385 - val_accuracy: 0.3763\n",
            "Epoch 2/20\n",
            "105/105 [==============================] - 4s 38ms/step - loss: 0.9691 - accuracy: 0.6890 - val_loss: 2.4800 - val_accuracy: 0.3286\n",
            "Epoch 3/20\n",
            "105/105 [==============================] - 4s 37ms/step - loss: 0.7447 - accuracy: 0.7566 - val_loss: 2.7557 - val_accuracy: 0.3274\n",
            "Epoch 4/20\n",
            "105/105 [==============================] - 4s 37ms/step - loss: 0.5667 - accuracy: 0.8173 - val_loss: 3.1230 - val_accuracy: 0.3118\n",
            "Epoch 5/20\n",
            "105/105 [==============================] - 4s 39ms/step - loss: 0.4201 - accuracy: 0.8852 - val_loss: 3.3986 - val_accuracy: 0.3047\n",
            "Epoch 6/20\n",
            "105/105 [==============================] - 4s 37ms/step - loss: 0.3194 - accuracy: 0.9160 - val_loss: 3.5660 - val_accuracy: 0.2999\n",
            "Epoch 7/20\n",
            "105/105 [==============================] - 4s 39ms/step - loss: 0.2331 - accuracy: 0.9438 - val_loss: 3.7612 - val_accuracy: 0.2939\n",
            "Epoch 8/20\n",
            "105/105 [==============================] - 4s 38ms/step - loss: 0.1815 - accuracy: 0.9563 - val_loss: 3.9874 - val_accuracy: 0.2796\n",
            "Epoch 9/20\n",
            "105/105 [==============================] - 4s 39ms/step - loss: 0.1460 - accuracy: 0.9623 - val_loss: 3.9971 - val_accuracy: 0.2939\n",
            "Epoch 10/20\n",
            "105/105 [==============================] - 4s 39ms/step - loss: 0.1256 - accuracy: 0.9668 - val_loss: 4.0836 - val_accuracy: 0.2867\n",
            "Epoch 11/20\n",
            "105/105 [==============================] - 4s 39ms/step - loss: 0.1098 - accuracy: 0.9722 - val_loss: 4.1945 - val_accuracy: 0.2843\n",
            "Epoch 12/20\n",
            "105/105 [==============================] - 4s 40ms/step - loss: 0.0939 - accuracy: 0.9755 - val_loss: 4.2771 - val_accuracy: 0.2987\n",
            "Epoch 13/20\n",
            "105/105 [==============================] - 4s 39ms/step - loss: 0.0897 - accuracy: 0.9749 - val_loss: 4.3863 - val_accuracy: 0.2975\n",
            "Epoch 14/20\n",
            "105/105 [==============================] - 4s 41ms/step - loss: 0.0877 - accuracy: 0.9761 - val_loss: 4.4474 - val_accuracy: 0.2700\n",
            "Epoch 15/20\n",
            "105/105 [==============================] - 4s 39ms/step - loss: 0.0801 - accuracy: 0.9776 - val_loss: 4.6042 - val_accuracy: 0.2736\n",
            "Epoch 16/20\n",
            "105/105 [==============================] - 4s 41ms/step - loss: 0.0731 - accuracy: 0.9803 - val_loss: 4.4114 - val_accuracy: 0.2915\n",
            "Epoch 17/20\n",
            "105/105 [==============================] - 4s 40ms/step - loss: 0.0645 - accuracy: 0.9836 - val_loss: 4.6194 - val_accuracy: 0.2772\n",
            "Epoch 18/20\n",
            "105/105 [==============================] - 4s 40ms/step - loss: 0.0586 - accuracy: 0.9859 - val_loss: 4.8216 - val_accuracy: 0.2557\n",
            "Epoch 19/20\n",
            "105/105 [==============================] - 4s 39ms/step - loss: 0.0540 - accuracy: 0.9889 - val_loss: 4.7740 - val_accuracy: 0.2832\n",
            "Epoch 20/20\n",
            "105/105 [==============================] - 6s 55ms/step - loss: 0.0539 - accuracy: 0.9871 - val_loss: 4.8767 - val_accuracy: 0.2820\n"
          ]
        }
      ]
    },
    {
      "cell_type": "code",
      "source": [
        "model.summary()"
      ],
      "metadata": {
        "colab": {
          "base_uri": "https://localhost:8080/"
        },
        "id": "sZNm2daXrL31",
        "outputId": "694678b8-5d03-40e1-de6b-e8eda1da2473"
      },
      "execution_count": 26,
      "outputs": [
        {
          "output_type": "stream",
          "name": "stdout",
          "text": [
            "Model: \"sequential\"\n",
            "_________________________________________________________________\n",
            " Layer (type)                Output Shape              Param #   \n",
            "=================================================================\n",
            " dense (Dense)               (None, 256)               2707456   \n",
            "                                                                 \n",
            " dense_1 (Dense)             (None, 128)               32896     \n",
            "                                                                 \n",
            " dense_2 (Dense)             (None, 128)               16512     \n",
            "                                                                 \n",
            " dense_3 (Dense)             (None, 128)               16512     \n",
            "                                                                 \n",
            " dense_4 (Dense)             (None, 128)               16512     \n",
            "                                                                 \n",
            " dropout (Dropout)           (None, 128)               0         \n",
            "                                                                 \n",
            " dense_5 (Dense)             (None, 22)                2838      \n",
            "                                                                 \n",
            " softmax (Softmax)           (None, 22)                0         \n",
            "                                                                 \n",
            "=================================================================\n",
            "Total params: 2,792,726\n",
            "Trainable params: 2,792,726\n",
            "Non-trainable params: 0\n",
            "_________________________________________________________________\n"
          ]
        }
      ]
    },
    {
      "cell_type": "code",
      "source": [
        "loss, acc = model.evaluate(features, y_train)\n",
        "print(\"Train Accuracy: \", acc*100)\n",
        "\n",
        "\n",
        "loss, acc = model.evaluate(features_test, y_test)\n",
        "print(\"Test Accuracy: \", acc*100)"
      ],
      "metadata": {
        "colab": {
          "base_uri": "https://localhost:8080/"
        },
        "id": "KTuJ5avKLyhi",
        "outputId": "f7e65df9-aa99-4dd3-9efd-9704886ab843"
      },
      "execution_count": 27,
      "outputs": [
        {
          "output_type": "stream",
          "name": "stdout",
          "text": [
            "105/105 [==============================] - 0s 3ms/step - loss: 0.0482 - accuracy: 0.9892\n",
            "Train Accuracy:  98.9234447479248\n",
            "27/27 [==============================] - 0s 3ms/step - loss: 4.8767 - accuracy: 0.2820\n",
            "Test Accuracy:  28.19593846797943\n"
          ]
        }
      ]
    },
    {
      "cell_type": "code",
      "metadata": {
        "id": "m1onQqOSBT-v",
        "colab": {
          "base_uri": "https://localhost:8080/",
          "height": 284
        },
        "outputId": "ff932894-2ac9-4851-d91a-d2b9f54e2a70"
      },
      "source": [
        "import matplotlib.pyplot as plt\n",
        "\n",
        "plt.subplot(221)\n",
        "plt.title(\"Accuracy\")\n",
        "plt.plot(history.history['accuracy'], label='accuracy')\n",
        "plt.legend()\n",
        "plt.subplot(222)\n",
        "plt.title(\"Loss\")\n",
        "plt.plot(history.history['loss'], label='loss')\n",
        "plt.legend()\n",
        "plt.subplot(223)\n",
        "plt.title(\"Accuracy\")\n",
        "plt.plot(history.history['val_accuracy'], label='val_accuracy')\n",
        "plt.legend()\n",
        "plt.subplot(224)\n",
        "plt.title(\"Loss\")\n",
        "plt.plot(history.history['val_loss'], label='val_loss')\n",
        "plt.legend()\n",
        "plt.show()"
      ],
      "execution_count": 28,
      "outputs": [
        {
          "output_type": "display_data",
          "data": {
            "text/plain": [
              "<Figure size 432x288 with 4 Axes>"
            ],
            "image/png": "[encoded data removed]"
          },
          "metadata": {}
        }
      ]
    },
    {
      "cell_type": "code",
      "source": [
        "y_pred = model.predict(features)\n",
        "\n"
      ],
      "metadata": {
        "colab": {
          "base_uri": "https://localhost:8080/"
        },
        "id": "yXILHgIzbMSH",
        "outputId": "cb58b082-4ef4-4178-a221-8fdd5ac101f6"
      },
      "execution_count": 29,
      "outputs": [
        {
          "output_type": "stream",
          "name": "stdout",
          "text": [
            "105/105 [==============================] - 1s 4ms/step\n"
          ]
        }
      ]
    },
    {
      "cell_type": "code",
      "source": [
        "def mean_probability(model, predictor):\n",
        "    _, test_x = train_test_split(predictor, test_size=0.2, random_state=9001)\n",
        "    \n",
        "    return model.predict_proba(test_x).mean()"
      ],
      "metadata": {
        "id": "2ChX6s1QmTlF"
      },
      "execution_count": 30,
      "outputs": []
    }
  ]
}